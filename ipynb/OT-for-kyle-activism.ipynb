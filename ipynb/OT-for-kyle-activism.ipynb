{
 "cells": [
  {
   "cell_type": "markdown",
   "metadata": {},
   "source": [
    "# OT for the Kyle model with insider activism"
   ]
  },
  {
   "cell_type": "code",
   "execution_count": null,
   "metadata": {},
   "outputs": [],
   "source": [
    "from __future__ import division\n",
    "\n",
    "import numpy as np\n",
    "import matplotlib\n",
    "import matplotlib.pyplot as plt\n",
    "from ot_for_kyle_activism import sinkhorn as sinkhorn\n",
    "\n",
    "import warnings\n",
    "warnings.filterwarnings('ignore')\n",
    "\n",
    "%matplotlib inline\n",
    "%load_ext autoreload\n",
    "%autoreload 2"
   ]
  },
  {
   "cell_type": "code",
   "execution_count": null,
   "metadata": {},
   "outputs": [],
   "source": [
    "import ot_for_kyle_activism.core.sinkhorn as kyle"
   ]
  },
  {
   "cell_type": "markdown",
   "metadata": {},
   "source": [
    "## Definition of the parameters"
   ]
  },
  {
   "cell_type": "code",
   "execution_count": null,
   "metadata": {},
   "outputs": [],
   "source": [
    "# Hyperparameters\n",
    "hyperparameters = {\n",
    "    'sigma'     : 1.0,\n",
    "    'T'         : 1.0,\n",
    "    'm_beta'    : 0.0,\n",
    "    'sigma_beta': 1.0,\n",
    "    'delta'     : 1.0,\n",
    "    'x_star'    : 0.5\n",
    "}\n",
    "\n",
    "# Sampling parameters in grid\n",
    "N = 100\n",
    "M = 80\n",
    "m = 4\n",
    "\n",
    "# Sinkorn regularization parameter\n",
    "epsilon = 0.05\n",
    "\n",
    "# Solve Sinkhorn\n",
    "potential_a, K1, potential_b = kyle.solve_sinkhorn(M,N,m,epsilon=epsilon, params=hyperparameters)\n",
    "# Form transport plan\n",
    "plan = potential_a[:, None, None]*K1*potential_b[None, :, :]"
   ]
  },
  {
   "cell_type": "code",
   "execution_count": null,
   "metadata": {
    "scrolled": false
   },
   "outputs": [],
   "source": [
    "kyle.plot_level_set(plan, M, N, m)\n",
    "kyle.plot_level_set2(plan, M, N, m)"
   ]
  },
  {
   "cell_type": "markdown",
   "metadata": {},
   "source": [
    "# II. Plot in 3D in plotly by layering Y"
   ]
  },
  {
   "cell_type": "code",
   "execution_count": null,
   "metadata": {},
   "outputs": [],
   "source": [
    "# Solve Sinkhorn\n",
    "potential_a, K1, potential_b = kyle.solve_sinkhorn(M,N,m,epsilon=epsilon, params=hyperparameters)\n",
    "# Form transport plan\n",
    "plan = potential_a[:, None, None]*K1*potential_b[None, :, :]"
   ]
  },
  {
   "cell_type": "code",
   "execution_count": null,
   "metadata": {},
   "outputs": [],
   "source": [
    "import plotly.graph_objects as go\n",
    "\n",
    "# Define grids for variables y,z,xi\n",
    "grid_y  = np.linspace(-m,m,N)\n",
    "grid_z  = np.linspace(-m,m,N)\n",
    "grid_xi = np.linspace(0,1,M)\n",
    "\n",
    "#\n",
    "height = np.zeros( (N,N) )\n",
    "for i in range(N):\n",
    "    # Slice for fixed y\n",
    "    # Note: Slice = Conditionnal distribution (Z,Xi | Y)\n",
    "    plan_slice = plan[i,:,:]\n",
    "    plan_slice = plan_slice/np.sum(plan_slice)\n",
    "    # Compute mean of Xi conditionally to Z\n",
    "    z = grid_z\n",
    "    xi = np.dot( plan_slice, grid_xi )/np.sum(plan_slice, axis=1)\n",
    "    height[i,:] = xi\n",
    "\n",
    "fig = go.Figure( data=[\n",
    "    go.Surface(x=grid_y, y=grid_z, z=height)\n",
    "] )\n",
    "fig.update_layout(title_text=\"Y = I(Z,Xi)\",\n",
    "                  scene = dict(\n",
    "                     xaxis_title=\"Y\",\n",
    "                     yaxis_title=\"Z\",\n",
    "                     zaxis_title=\"Xi\",\n",
    "                     xaxis = dict(nticks=10, range=[-m,m],),\n",
    "                     yaxis = dict(nticks=10, range=[-m,m],),\n",
    "                     zaxis = dict(nticks=4, range=[0,1],),\n",
    "                  )\n",
    "                 )\n",
    "fig.show()"
   ]
  },
  {
   "cell_type": "markdown",
   "metadata": {},
   "source": [
    "# III. Plot in 3D using conditioning for computing I"
   ]
  },
  {
   "cell_type": "code",
   "execution_count": null,
   "metadata": {},
   "outputs": [],
   "source": [
    "# Hyperparameters\n",
    "hyperparameters = {\n",
    "    'sigma'     : 1.0,\n",
    "    'T'         : 1.0,\n",
    "    'm_beta'    : 0.0,\n",
    "    'sigma_beta': 1.0,\n",
    "    'delta'     : 1.0,\n",
    "    'x_star'    : 0.5\n",
    "}\n",
    "\n",
    "\n",
    "# Sampling parameters in grid\n",
    "N = 100\n",
    "M = 80\n",
    "m = 4\n",
    "\n",
    "# Sinkorn regularization parameter\n",
    "epsilon = 0.05\n",
    "\n",
    "# Loop over hyperparameters\n",
    "Is = []\n",
    "for param in [-1.0, 0.0, 1.0]:\n",
    "    params=dict(hyperparameters)\n",
    "    params['m_beta'] = param\n",
    "    # Solve Sinkhorn\n",
    "    potential_a, K1, potential_b = kyle.solve_sinkhorn(M,N,m,epsilon=epsilon, params=params)\n",
    "    # Form transport plan\n",
    "    plan = potential_a[:, None, None]*K1*potential_b[None, :, :]\n",
    "    # Compute I\n",
    "    grid_z, grid_y, height = kyle.compute_I( plan, M, N, m)\n",
    "    Is.append( height )\n",
    "\n",
    "\n",
    "import plotly.graph_objects as go\n",
    "\n",
    "data = []\n",
    "for I in Is:\n",
    "    data.append( go.Surface(x=grid_z, y=grid_xi, z=I) )\n",
    "fig = go.Figure( data=data )\n",
    "fig.update_layout(title_text=\"Y = I(Z,Xi)\",\n",
    "                  scene = {\n",
    "                     'xaxis_title': 'Z',\n",
    "                     'yaxis_title': 'Xi',\n",
    "                     'zaxis_title': 'Y',\n",
    "                     'xaxis': { 'nticks':10, 'range': [-m,m] },\n",
    "                     'yaxis': { 'nticks':10, 'range': [0,1]  },\n",
    "                     'zaxis': { 'nticks':10, 'range': [-m,m] },\n",
    "                  })\n",
    "fig.write_image(\"multiple_m.png\")\n",
    "fig.show()\n"
   ]
  },
  {
   "cell_type": "markdown",
   "metadata": {},
   "source": [
    "# IV. Probability of taking a role in governance"
   ]
  },
  {
   "cell_type": "code",
   "execution_count": null,
   "metadata": {},
   "outputs": [],
   "source": [
    "def compute_governance_probabilities( M, N, m, epsilon, hyperparameters, sigma_array):\n",
    "    probabilities = []\n",
    "    for param in sigma_array:\n",
    "        params=dict(hyperparameters)\n",
    "        params['sigma'] = param\n",
    "        # Solve Sinkhorn\n",
    "        potential_a, K1, potential_b = kyle.solve_sinkhorn(M,N,m,epsilon=epsilon, params=params)\n",
    "        # Form transport plan\n",
    "        plan = potential_a[:, None, None]*K1*potential_b[None, :, :]\n",
    "        # Define grids for variables y,z,xi\n",
    "        grid_y  = np.linspace(-m,m,N)\n",
    "        grid_z  = np.linspace(-m,m,N)\n",
    "        grid_xi = np.linspace(0,1,M)\n",
    "        # Normalize for safety\n",
    "        plan = plan/np.sum(plan)\n",
    "        # Law of (Y,Z)\n",
    "        law_YZ = np.sum( plan, axis=2 )\n",
    "        #\n",
    "        y, z = np.meshgrid( grid_y, grid_z )\n",
    "        indices = np.where( y-z>hyperparameters['x_star'])\n",
    "        p = np.sum( law_YZ[indices])\n",
    "        probabilities.append( p )\n",
    "    # End for\n",
    "    return probabilities\n",
    "\n",
    "# Hyperparameters\n",
    "hyperparameters = {\n",
    "    'sigma'     : 1.0,\n",
    "    'T'         : 1.0,\n",
    "    'm_beta'    : -1.0,\n",
    "    'sigma_beta': 1.0,\n",
    "    'delta'     : 1.0,\n",
    "    'x_star'    : 0.5\n",
    "}\n",
    "\n",
    "\n",
    "# Sampling parameters in grid\n",
    "N = 100\n",
    "M = 80\n",
    "m = 4\n",
    "\n",
    "# Sinkorn regularization parameter\n",
    "epsilon = 0.05\n",
    "\n",
    "sigma_array=np.linspace(0.1, 2.0, 20)\n",
    "\n",
    "#\n",
    "hyperparameters['m_beta'] = -1.0\n",
    "probabilities1 = compute_governance_probabilities( M, N, m, epsilon, hyperparameters, sigma_array)\n",
    "plt.show()\n",
    "hyperparameters['m_beta'] = 1.0\n",
    "probabilities2 = compute_governance_probabilities( M, N, m, epsilon, hyperparameters, sigma_array)\n",
    "plt.show()\n",
    "\n"
   ]
  },
  {
   "cell_type": "code",
   "execution_count": null,
   "metadata": {},
   "outputs": [],
   "source": [
    "# Plot\n",
    "plt.figure(figsize=(10, 8), dpi=80)\n",
    "matplotlib.rcParams.update({'font.size': 15})\n",
    "plt.plot( sigma_array, probabilities1, label='$m_\\\\beta$=1.0' )\n",
    "plt.plot( sigma_array, probabilities2, label='$m_\\\\beta$=1.0' )\n",
    "plt.legend()\n",
    "plt.title( 'Probability $\\mathbb{P}( Y_T-(Z_T-\\\\beta) \\geq x^*)$ as a function of $\\sigma$.')\n",
    "plt.xlabel('$\\\\sigma$')\n",
    "plt.ylabel('$\\\\mathbb{P}( Y_T-(Z_T-\\\\beta) \\geq x^*)$')\n",
    "plt.ylim( [0,1] )\n",
    "plt.savefig('proba.png')\n",
    "plt.show()"
   ]
  },
  {
   "cell_type": "code",
   "execution_count": null,
   "metadata": {},
   "outputs": [],
   "source": []
  }
 ],
 "metadata": {
  "interpreter": {
   "hash": "40d679bba796af1ef241e9f633fdd5227cd0cd3ae12e2c6da08a07d80ab3c166"
  },
  "kernelspec": {
   "display_name": ".venv_ot_for_kyle",
   "language": "python",
   "name": ".venv_ot_for_kyle"
  },
  "language_info": {
   "codemirror_mode": {
    "name": "ipython",
    "version": 3
   },
   "file_extension": ".py",
   "mimetype": "text/x-python",
   "name": "python",
   "nbconvert_exporter": "python",
   "pygments_lexer": "ipython3",
   "version": "3.8.12"
  }
 },
 "nbformat": 4,
 "nbformat_minor": 4
}
